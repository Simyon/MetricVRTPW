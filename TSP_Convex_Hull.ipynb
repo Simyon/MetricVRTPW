{
 "cells": [
  {
   "cell_type": "code",
   "execution_count": 1,
   "id": "2aed77b3",
   "metadata": {},
   "outputs": [],
   "source": [
    "def rotate(A,B,C):\n",
    "  return (B[0]-A[0])*(C[1]-B[1])-(B[1]-A[1])*(C[0]-B[0])"
   ]
  },
  {
   "cell_type": "code",
   "execution_count": 2,
   "id": "7b199a3b",
   "metadata": {},
   "outputs": [],
   "source": [
    "def grahamscan(A):\n",
    "  n = len(A) # число точек\n",
    "  P = list(range(n)) # список номеров точек\n",
    "  for i in range(1,n):\n",
    "    if A[P[i]][0]<A[P[0]][0]: # если P[i]-ая точка лежит левее P[0]-ой точки\n",
    "      P[i], P[0] = P[0], P[i] # меняем местами номера этих точек \n",
    "  for i in range(2,n): # сортировка вставкой\n",
    "    j = i\n",
    "    while j>1 and (rotate(A[P[0]],A[P[j-1]],A[P[j]])<0): \n",
    "      P[j], P[j-1] = P[j-1], P[j]\n",
    "      j -= 1\n",
    "  if n == 1: S = [P[0],P[0]] # создаем стек\n",
    "  else: S = [P[0],P[1]] # создаем стек\n",
    "  for i in range(2,n):\n",
    "    while rotate(A[S[-2]],A[S[-1]],A[P[i]])<0:\n",
    "      del S[-1] # pop(S)\n",
    "    S.append(P[i]) # push(S,P[i])\n",
    "  return S"
   ]
  },
  {
   "cell_type": "code",
   "execution_count": 3,
   "id": "f5a3683e",
   "metadata": {},
   "outputs": [],
   "source": [
    "def Diff(li1, li2):\n",
    "    li_dif = [i for i in li1 + li2 if i not in li1 or i not in li2]\n",
    "    return li_dif"
   ]
  },
  {
   "cell_type": "code",
   "execution_count": 4,
   "id": "bd956982",
   "metadata": {},
   "outputs": [],
   "source": [
    "def get_list_by_S(coords, S):\n",
    "    hull_list = []\n",
    "    for el in sorted(S):\n",
    "        hull_list.append(coords[el])\n",
    "    return hull_list"
   ]
  },
  {
   "cell_type": "code",
   "execution_count": 5,
   "id": "633407e2",
   "metadata": {},
   "outputs": [],
   "source": [
    "def euclid_dist(point2, point1):\n",
    "    return sqrt((point2[0]-point1[0])**2 + (point2[1]-point1[1])**2)"
   ]
  },
  {
   "cell_type": "code",
   "execution_count": 6,
   "id": "682f21de",
   "metadata": {},
   "outputs": [],
   "source": [
    "from math import sqrt\n",
    "\n",
    "def TSP_hull(S):\n",
    "    n = len(S)\n",
    "    tmp_cost = 0.00\n",
    "    for i in range(n-1):\n",
    "        tmp_cost += euclid_dist(S[i+1], S[i])\n",
    "    return tmp_cost"
   ]
  },
  {
   "cell_type": "code",
   "execution_count": 7,
   "id": "ce80d528",
   "metadata": {},
   "outputs": [],
   "source": [
    "def TSP_godown(S1, S2): \n",
    "    '''\n",
    "    S1 - внешняя оболчка\n",
    "    S2 - внутреняя оболчка\n",
    "    '''\n",
    "    n1, n2 = len(S1), len(S2) \n",
    "    min_dist = euclid_dist(S1[0], S2[0])\n",
    "    for i in range(n1):\n",
    "        for j in range(n2):\n",
    "            min_dist = min(min_dist, euclid_dist(S1[i], S2[j]))\n",
    "    return min_dist, i"
   ]
  },
  {
   "cell_type": "code",
   "execution_count": 8,
   "id": "85bb9301",
   "metadata": {},
   "outputs": [],
   "source": [
    "def bad_update_locations(loc, dots):\n",
    "    x, y = loc[0][0], loc[0][1]    \n",
    "    for i in range(dots):\n",
    "        if i == 0: loc.append([x + x / 2, y])\n",
    "        elif i == 1: loc.append([x - x / 2, y])\n",
    "        elif i == 2: loc.append([x, y + y / 2])\n",
    "        elif i == 3: loc.append([x, y - y / 2])\n",
    "        elif i == 4: loc.append([x - x / 2, y - y / 2])\n",
    "        elif i == 5: loc.append([x - x / 2, y + y / 2])\n",
    "        elif i == 6: loc.append([x + x / 2, y - y / 2])\n",
    "        elif i == 7: loc.append([x + x / 2, y + y / 2])\n",
    "    return loc"
   ]
  },
  {
   "cell_type": "code",
   "execution_count": 9,
   "id": "26f46037",
   "metadata": {},
   "outputs": [],
   "source": [
    "import random\n",
    "\n",
    "def one_random_update_locations(loc, x_range, y_range):\n",
    "    #random.seed(10)\n",
    "    left_x_range = x_range[0]\n",
    "    right_x_range = x_range[1]\n",
    "    down_y_range = y_range[0]\n",
    "    up_y_range = y_range[1]\n",
    "    new_x = random.randint(left_x_range, right_x_range)\n",
    "    new_y = random.randint(down_y_range, up_y_range)\n",
    "    loc.append([new_x, new_y])\n",
    "    return loc"
   ]
  },
  {
   "cell_type": "code",
   "execution_count": 10,
   "id": "fa85bb08",
   "metadata": {},
   "outputs": [],
   "source": [
    "def delete_one_delete_locations(loc, index):\n",
    "    del loc[index]\n",
    "    return loc"
   ]
  },
  {
   "cell_type": "code",
   "execution_count": 11,
   "id": "fff40d28",
   "metadata": {},
   "outputs": [],
   "source": [
    "def one_random_delete_locations(loc):\n",
    "    ind = random.randint(0, len(loc)) \n",
    "    if ind >= len(loc): ind = len(loc) / 2\n",
    "    pnt = loc[ind]\n",
    "    del loc[ind]\n",
    "    return loc, pnt"
   ]
  },
  {
   "cell_type": "code",
   "execution_count": 12,
   "id": "7af5006b",
   "metadata": {},
   "outputs": [],
   "source": [
    "def not_full_path(S1, index):\n",
    "    l = len(S1)\n",
    "    if l < 3: return 0\n",
    "    return max(euclid_dist(S1[(index-1) % l], S1[index]), euclid_dist(S1[(index+1) % l], S1[index]))"
   ]
  },
  {
   "cell_type": "code",
   "execution_count": 13,
   "id": "6ccf5550",
   "metadata": {},
   "outputs": [
    {
     "name": "stdout",
     "output_type": "stream",
     "text": [
      "[[40.0, 50.0], [25.0, 85.0], [22.0, 75.0], [22.0, 85.0], [20.0, 80.0], [20.0, 85.0], [18.0, 75.0], [15.0, 75.0], [15.0, 80.0], [10.0, 35.0], [10.0, 40.0], [8.0, 40.0], [8.0, 45.0], [5.0, 35.0], [5.0, 45.0], [2.0, 40.0], [0.0, 40.0], [0.0, 45.0], [44.0, 5.0], [42.0, 10.0], [42.0, 15.0], [40.0, 5.0], [40.0, 15.0], [38.0, 5.0], [38.0, 15.0], [35.0, 5.0], [95.0, 30.0], [95.0, 35.0], [92.0, 30.0], [90.0, 35.0], [88.0, 30.0], [88.0, 35.0], [87.0, 30.0], [85.0, 25.0], [85.0, 35.0], [67.0, 85.0], [65.0, 85.0], [65.0, 82.0], [62.0, 80.0], [60.0, 80.0], [60.0, 85.0], [58.0, 75.0], [55.0, 80.0], [55.0, 85.0], [55.0, 82.0], [20.0, 82.0], [18.0, 80.0], [2.0, 45.0], [42.0, 5.0], [42.0, 12.0], [72.0, 35.0], [55.0, 20.0], [25.0, 30.0], [20.0, 50.0], [55.0, 60.0], [30.0, 60.0], [50.0, 35.0], [30.0, 25.0], [15.0, 10.0], [10.0, 20.0], [15.0, 60.0], [45.0, 65.0], [65.0, 35.0], [65.0, 20.0], [45.0, 30.0], [35.0, 40.0], [41.0, 37.0], [64.0, 42.0], [40.0, 60.0], [31.0, 52.0], [35.0, 69.0], [65.0, 55.0], [63.0, 65.0], [2.0, 60.0], [20.0, 20.0], [5.0, 5.0], [60.0, 12.0], [23.0, 3.0], [8.0, 56.0], [6.0, 68.0], [47.0, 47.0], [49.0, 58.0], [27.0, 43.0], [37.0, 31.0], [57.0, 29.0], [63.0, 23.0], [21.0, 24.0], [12.0, 24.0], [24.0, 58.0], [67.0, 5.0], [37.0, 47.0], [49.0, 42.0], [53.0, 43.0], [61.0, 52.0], [57.0, 48.0], [56.0, 37.0], [55.0, 54.0], [4.0, 18.0], [26.0, 52.0], [26.0, 35.0], [31.0, 67.0]]\n"
     ]
    }
   ],
   "source": [
    "import urllib.request\n",
    "\n",
    "'''\n",
    "c105  = https://people.idsia.ch/~luca/macs-vrptw/problems/c105.txt\n",
    "c205  = https://people.idsia.ch/~luca/macs-vrptw/problems/c205.txt\n",
    "r101  = https://people.idsia.ch/~luca/macs-vrptw/problems/r101.txt\n",
    "r111  = https://people.idsia.ch/~luca/macs-vrptw/problems/r111.txt\n",
    "r201  = https://people.idsia.ch/~luca/macs-vrptw/problems/r201.txt\n",
    "rc201 = https://people.idsia.ch/~luca/macs-vrptw/problems/rc201.txt\n",
    "http://vrp.atd-lab.inf.puc-rio.br/media/com_vrp/instances/HG/C1_2_1.txt\n",
    "'''\n",
    "locations = []\n",
    "target_url = \"https://people.idsia.ch/~luca/macs-vrptw/problems/rc102.txt\"\n",
    "line_number = 0\n",
    "for line in urllib.request.urlopen(target_url):\n",
    "    #print(line.decode('utf-8'))\n",
    "    line_number += 1\n",
    "    \n",
    "    if line_number >= 9:\n",
    "        CUSTOMER = [float(s) for s in line.split()]\n",
    "        #print(\"list_: \", list_)\n",
    "        if len(CUSTOMER) > 0:\n",
    "            locations.append([CUSTOMER[1], CUSTOMER[2]])\n",
    "print(locations)"
   ]
  },
  {
   "cell_type": "code",
   "execution_count": 14,
   "id": "f0a36a0e",
   "metadata": {},
   "outputs": [],
   "source": [
    "#locations = bad_update_locations(locations, 1)"
   ]
  },
  {
   "cell_type": "code",
   "execution_count": 15,
   "id": "72b1807d",
   "metadata": {},
   "outputs": [
    {
     "data": {
      "text/plain": [
       "'\\nfor i in range(8):\\n    locations = one_random_update_locations(locations, (0, 100), (0, 100))\\n    print(locations[-1])\\n'"
      ]
     },
     "execution_count": 15,
     "metadata": {},
     "output_type": "execute_result"
    }
   ],
   "source": [
    "'''\n",
    "for i in range(8):\n",
    "    locations = one_random_update_locations(locations, (0, 100), (0, 100))\n",
    "    print(locations[-1])\n",
    "'''"
   ]
  },
  {
   "cell_type": "code",
   "execution_count": 16,
   "id": "75d416d5",
   "metadata": {},
   "outputs": [],
   "source": [
    "#for i in range(8): locations = delete_one_delete_locations(locations, 0)"
   ]
  },
  {
   "cell_type": "code",
   "execution_count": 17,
   "id": "1395cfb5",
   "metadata": {},
   "outputs": [
    {
     "data": {
      "text/plain": [
       "'\\nfor i in range(8):\\n    locations, pnt = one_random_delete_locations(locations)\\n    print(pnt)\\n'"
      ]
     },
     "execution_count": 17,
     "metadata": {},
     "output_type": "execute_result"
    }
   ],
   "source": [
    "'''\n",
    "for i in range(8):\n",
    "    locations, pnt = one_random_delete_locations(locations)\n",
    "    print(pnt)\n",
    "'''"
   ]
  },
  {
   "cell_type": "code",
   "execution_count": 18,
   "id": "aee89615",
   "metadata": {},
   "outputs": [
    {
     "name": "stdout",
     "output_type": "stream",
     "text": [
      "[[40.0, 50.0], [25.0, 85.0], [22.0, 75.0], [22.0, 85.0], [20.0, 80.0], [20.0, 85.0], [18.0, 75.0], [15.0, 75.0], [15.0, 80.0], [10.0, 35.0], [10.0, 40.0], [8.0, 40.0], [8.0, 45.0], [5.0, 35.0], [5.0, 45.0], [2.0, 40.0], [0.0, 40.0], [0.0, 45.0], [44.0, 5.0], [42.0, 10.0], [42.0, 15.0], [40.0, 5.0], [40.0, 15.0], [38.0, 5.0], [38.0, 15.0], [35.0, 5.0], [95.0, 30.0], [95.0, 35.0], [92.0, 30.0], [90.0, 35.0], [88.0, 30.0], [88.0, 35.0], [87.0, 30.0], [85.0, 25.0], [85.0, 35.0], [67.0, 85.0], [65.0, 85.0], [65.0, 82.0], [62.0, 80.0], [60.0, 80.0], [60.0, 85.0], [58.0, 75.0], [55.0, 80.0], [55.0, 85.0], [55.0, 82.0], [20.0, 82.0], [18.0, 80.0], [2.0, 45.0], [42.0, 5.0], [42.0, 12.0], [72.0, 35.0], [55.0, 20.0], [25.0, 30.0], [20.0, 50.0], [55.0, 60.0], [30.0, 60.0], [50.0, 35.0], [30.0, 25.0], [15.0, 10.0], [10.0, 20.0], [15.0, 60.0], [45.0, 65.0], [65.0, 35.0], [65.0, 20.0], [45.0, 30.0], [35.0, 40.0], [41.0, 37.0], [64.0, 42.0], [40.0, 60.0], [31.0, 52.0], [35.0, 69.0], [65.0, 55.0], [63.0, 65.0], [2.0, 60.0], [20.0, 20.0], [5.0, 5.0], [60.0, 12.0], [23.0, 3.0], [8.0, 56.0], [6.0, 68.0], [47.0, 47.0], [49.0, 58.0], [27.0, 43.0], [37.0, 31.0], [57.0, 29.0], [63.0, 23.0], [21.0, 24.0], [12.0, 24.0], [24.0, 58.0], [67.0, 5.0], [37.0, 47.0], [49.0, 42.0], [53.0, 43.0], [61.0, 52.0], [57.0, 48.0], [56.0, 37.0], [55.0, 54.0], [4.0, 18.0], [26.0, 52.0], [26.0, 35.0], [31.0, 67.0]]\n"
     ]
    }
   ],
   "source": [
    "print(locations)"
   ]
  },
  {
   "cell_type": "code",
   "execution_count": 19,
   "id": "153e802a",
   "metadata": {
    "scrolled": true
   },
   "outputs": [
    {
     "name": "stdout",
     "output_type": "stream",
     "text": [
      "[[[25.0, 85.0], [22.0, 85.0], [20.0, 85.0], [15.0, 80.0], [10.0, 40.0], [8.0, 40.0], [2.0, 40.0], [0.0, 40.0], [0.0, 45.0], [95.0, 30.0], [95.0, 35.0], [67.0, 85.0], [65.0, 85.0], [60.0, 85.0], [55.0, 85.0], [35.0, 40.0], [64.0, 42.0], [65.0, 55.0], [2.0, 60.0], [5.0, 5.0], [23.0, 3.0], [6.0, 68.0], [67.0, 5.0]], [[15.0, 75.0], [44.0, 5.0], [40.0, 5.0], [38.0, 5.0], [35.0, 5.0], [92.0, 30.0], [90.0, 35.0], [85.0, 25.0], [65.0, 82.0], [55.0, 82.0], [20.0, 82.0], [18.0, 80.0], [2.0, 45.0], [42.0, 5.0], [15.0, 10.0], [60.0, 12.0], [4.0, 18.0]], [[20.0, 80.0], [5.0, 35.0], [5.0, 45.0], [42.0, 10.0], [88.0, 30.0], [88.0, 35.0], [85.0, 35.0], [62.0, 80.0], [60.0, 80.0], [55.0, 80.0], [72.0, 35.0], [50.0, 35.0], [10.0, 20.0], [65.0, 35.0], [65.0, 20.0], [63.0, 65.0], [8.0, 56.0]], [[22.0, 75.0], [18.0, 75.0], [8.0, 45.0], [87.0, 30.0], [58.0, 75.0], [42.0, 12.0], [20.0, 20.0], [12.0, 24.0]], [[10.0, 35.0], [42.0, 15.0], [40.0, 15.0], [38.0, 15.0], [55.0, 60.0], [15.0, 60.0], [45.0, 65.0], [35.0, 69.0], [63.0, 23.0], [21.0, 24.0], [61.0, 52.0]], [[55.0, 20.0], [25.0, 30.0], [20.0, 50.0], [30.0, 25.0], [49.0, 58.0], [57.0, 29.0], [24.0, 58.0], [57.0, 48.0], [55.0, 54.0], [31.0, 67.0]], [[30.0, 60.0], [45.0, 30.0], [40.0, 60.0], [37.0, 31.0], [53.0, 43.0], [56.0, 37.0], [26.0, 52.0], [26.0, 35.0]], [[40.0, 50.0], [41.0, 37.0], [31.0, 52.0], [47.0, 47.0], [27.0, 43.0], [49.0, 42.0]], [[37.0, 47.0], [37.0, 47.0]]]\n",
      "2344.4037169988883\n"
     ]
    }
   ],
   "source": [
    "hulls_loc = []\n",
    "cost_loc = 0.00\n",
    "cost = 0.00\n",
    "while len(locations) > 0:\n",
    "    S = grahamscan(locations)\n",
    "    S_list = get_list_by_S(locations, S)\n",
    "    hulls_loc.append(S_list)\n",
    "    locations = Diff(locations, S_list)\n",
    "    cost_loc += TSP_hull(S_list)\n",
    "    if len(hulls_loc) > 1: \n",
    "        cost_transer, near_index = TSP_godown(hulls_loc[-2], hulls_loc[-1])  \n",
    "        cost_loc += cost_transer\n",
    "        cost_loc -= not_full_path(hulls_loc[-2], near_index)\n",
    "print(hulls_loc)\n",
    "print(cost_loc)"
   ]
  },
  {
   "cell_type": "code",
   "execution_count": null,
   "id": "66517810",
   "metadata": {},
   "outputs": [],
   "source": []
  }
 ],
 "metadata": {
  "kernelspec": {
   "display_name": "Python 3 (ipykernel)",
   "language": "python",
   "name": "python3"
  },
  "language_info": {
   "codemirror_mode": {
    "name": "ipython",
    "version": 3
   },
   "file_extension": ".py",
   "mimetype": "text/x-python",
   "name": "python",
   "nbconvert_exporter": "python",
   "pygments_lexer": "ipython3",
   "version": "3.11.3"
  }
 },
 "nbformat": 4,
 "nbformat_minor": 5
}
